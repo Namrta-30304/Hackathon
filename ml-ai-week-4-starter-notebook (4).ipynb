{
 "cells": [
  {
   "cell_type": "code",
   "execution_count": 1,
   "id": "a8ae14c5",
   "metadata": {
    "_cell_guid": "b1076dfc-b9ad-4769-8c92-a6c4dae69d19",
    "_uuid": "8f2839f25d086af736a60e9eeb907d3b93b6e0e5",
    "execution": {
     "iopub.execute_input": "2024-06-16T07:45:21.214466Z",
     "iopub.status.busy": "2024-06-16T07:45:21.213654Z",
     "iopub.status.idle": "2024-06-16T07:45:23.613918Z",
     "shell.execute_reply": "2024-06-16T07:45:23.612814Z"
    },
    "papermill": {
     "duration": 2.413023,
     "end_time": "2024-06-16T07:45:23.616166",
     "exception": false,
     "start_time": "2024-06-16T07:45:21.203143",
     "status": "completed"
    },
    "tags": []
   },
   "outputs": [
    {
     "name": "stdout",
     "output_type": "stream",
     "text": [
      "/kaggle/input/week4-practice-hackathon-2024/sample_submission.csv\n",
      "/kaggle/input/week4-practice-hackathon-2024/Train.csv\n",
      "/kaggle/input/week4-practice-hackathon-2024/Test.csv\n"
     ]
    }
   ],
   "source": [
    "# This Python 3 environment comes with many helpful analytics libraries installed\n",
    "# It is defined by the kaggle/python Docker image: https://github.com/kaggle/docker-python\n",
    "# For example, here's several helpful packages to load\n",
    "\n",
    "import numpy as np # linear algebra\n",
    "import pandas as pd # data processing, CSV file I/O (e.g. pd.read_csv)\n",
    "from sklearn import preprocessing\n",
    "from sklearn.model_selection import train_test_split\n",
    "from sklearn.linear_model import LogisticRegression\n",
    "from tqdm.auto import tqdm\n",
    "from sklearn.metrics import f1_score\n",
    "from sklearn.preprocessing import RobustScaler\n",
    "\n",
    "\n",
    "\n",
    "# Input data files are available in the read-only \"../input/\" directory\n",
    "# For example, running this (by clicking run or pressing Shift+Enter) will list all files under the input directory\n",
    "\n",
    "import os\n",
    "for dirname, _, filenames in os.walk('/kaggle/input'):\n",
    "    for filename in filenames:\n",
    "        print(os.path.join(dirname, filename))\n",
    "\n",
    "# You can write up to 20GB to the current directory (/kaggle/working/) that gets preserved as output when you create a version using \"Save & Run All\"\n",
    "# You can also write temporary files to /kaggle/temp/, but they won't be saved outside of the current session"
   ]
  },
  {
   "cell_type": "code",
   "execution_count": 2,
   "id": "ecb1deb5",
   "metadata": {
    "execution": {
     "iopub.execute_input": "2024-06-16T07:45:23.628797Z",
     "iopub.status.busy": "2024-06-16T07:45:23.628286Z",
     "iopub.status.idle": "2024-06-16T07:45:23.823772Z",
     "shell.execute_reply": "2024-06-16T07:45:23.822550Z"
    },
    "papermill": {
     "duration": 0.204578,
     "end_time": "2024-06-16T07:45:23.826313",
     "exception": false,
     "start_time": "2024-06-16T07:45:23.621735",
     "status": "completed"
    },
    "tags": []
   },
   "outputs": [],
   "source": [
    "train_df = pd.read_csv(\"/kaggle/input/week4-practice-hackathon-2024/Train.csv\")"
   ]
  },
  {
   "cell_type": "code",
   "execution_count": 3,
   "id": "44740af3",
   "metadata": {
    "execution": {
     "iopub.execute_input": "2024-06-16T07:45:23.838679Z",
     "iopub.status.busy": "2024-06-16T07:45:23.838310Z",
     "iopub.status.idle": "2024-06-16T07:45:23.844231Z",
     "shell.execute_reply": "2024-06-16T07:45:23.842861Z"
    },
    "papermill": {
     "duration": 0.014529,
     "end_time": "2024-06-16T07:45:23.846287",
     "exception": false,
     "start_time": "2024-06-16T07:45:23.831758",
     "status": "completed"
    },
    "tags": []
   },
   "outputs": [
    {
     "name": "stdout",
     "output_type": "stream",
     "text": [
      "(40776, 32)\n"
     ]
    }
   ],
   "source": [
    "print(train_df.shape)"
   ]
  },
  {
   "cell_type": "code",
   "execution_count": 4,
   "id": "3d712524",
   "metadata": {
    "execution": {
     "iopub.execute_input": "2024-06-16T07:45:23.859475Z",
     "iopub.status.busy": "2024-06-16T07:45:23.858406Z",
     "iopub.status.idle": "2024-06-16T07:45:23.899325Z",
     "shell.execute_reply": "2024-06-16T07:45:23.898279Z"
    },
    "papermill": {
     "duration": 0.049746,
     "end_time": "2024-06-16T07:45:23.901563",
     "exception": false,
     "start_time": "2024-06-16T07:45:23.851817",
     "status": "completed"
    },
    "tags": []
   },
   "outputs": [
    {
     "data": {
      "text/html": [
       "<div>\n",
       "<style scoped>\n",
       "    .dataframe tbody tr th:only-of-type {\n",
       "        vertical-align: middle;\n",
       "    }\n",
       "\n",
       "    .dataframe tbody tr th {\n",
       "        vertical-align: top;\n",
       "    }\n",
       "\n",
       "    .dataframe thead th {\n",
       "        text-align: right;\n",
       "    }\n",
       "</style>\n",
       "<table border=\"1\" class=\"dataframe\">\n",
       "  <thead>\n",
       "    <tr style=\"text-align: right;\">\n",
       "      <th></th>\n",
       "      <th>V1</th>\n",
       "      <th>V2</th>\n",
       "      <th>V3</th>\n",
       "      <th>V4</th>\n",
       "      <th>V5</th>\n",
       "      <th>V6</th>\n",
       "      <th>V7</th>\n",
       "      <th>V8</th>\n",
       "      <th>V9</th>\n",
       "      <th>V10</th>\n",
       "      <th>...</th>\n",
       "      <th>V45</th>\n",
       "      <th>V47</th>\n",
       "      <th>V50</th>\n",
       "      <th>V51</th>\n",
       "      <th>V52</th>\n",
       "      <th>V59</th>\n",
       "      <th>V63</th>\n",
       "      <th>V72</th>\n",
       "      <th>V75</th>\n",
       "      <th>class</th>\n",
       "    </tr>\n",
       "  </thead>\n",
       "  <tbody>\n",
       "    <tr>\n",
       "      <th>0</th>\n",
       "      <td>0.0</td>\n",
       "      <td>1.0</td>\n",
       "      <td>243.0</td>\n",
       "      <td>29</td>\n",
       "      <td>4528.0</td>\n",
       "      <td>138.0</td>\n",
       "      <td>3.0</td>\n",
       "      <td>29</td>\n",
       "      <td>201.0</td>\n",
       "      <td>0.0</td>\n",
       "      <td>...</td>\n",
       "      <td>2</td>\n",
       "      <td>3</td>\n",
       "      <td>71.0</td>\n",
       "      <td>0</td>\n",
       "      <td>0</td>\n",
       "      <td>46.0</td>\n",
       "      <td>1</td>\n",
       "      <td>2</td>\n",
       "      <td>0</td>\n",
       "      <td>1</td>\n",
       "    </tr>\n",
       "    <tr>\n",
       "      <th>1</th>\n",
       "      <td>0.0</td>\n",
       "      <td>20.0</td>\n",
       "      <td>8.0</td>\n",
       "      <td>14</td>\n",
       "      <td>4183.0</td>\n",
       "      <td>183.0</td>\n",
       "      <td>4.0</td>\n",
       "      <td>26</td>\n",
       "      <td>156.0</td>\n",
       "      <td>0.0</td>\n",
       "      <td>...</td>\n",
       "      <td>5</td>\n",
       "      <td>7</td>\n",
       "      <td>20.0</td>\n",
       "      <td>0</td>\n",
       "      <td>2</td>\n",
       "      <td>13.0</td>\n",
       "      <td>9</td>\n",
       "      <td>6</td>\n",
       "      <td>0</td>\n",
       "      <td>1</td>\n",
       "    </tr>\n",
       "    <tr>\n",
       "      <th>2</th>\n",
       "      <td>14.0</td>\n",
       "      <td>2.0</td>\n",
       "      <td>2.0</td>\n",
       "      <td>9</td>\n",
       "      <td>1113.0</td>\n",
       "      <td>15.0</td>\n",
       "      <td>37.0</td>\n",
       "      <td>31</td>\n",
       "      <td>78.0</td>\n",
       "      <td>1.0</td>\n",
       "      <td>...</td>\n",
       "      <td>7</td>\n",
       "      <td>5</td>\n",
       "      <td>11.0</td>\n",
       "      <td>0</td>\n",
       "      <td>0</td>\n",
       "      <td>7.0</td>\n",
       "      <td>9</td>\n",
       "      <td>2</td>\n",
       "      <td>1</td>\n",
       "      <td>0</td>\n",
       "    </tr>\n",
       "    <tr>\n",
       "      <th>3</th>\n",
       "      <td>0.0</td>\n",
       "      <td>175.0</td>\n",
       "      <td>17.0</td>\n",
       "      <td>16</td>\n",
       "      <td>4250.0</td>\n",
       "      <td>68.0</td>\n",
       "      <td>8.0</td>\n",
       "      <td>30</td>\n",
       "      <td>152.0</td>\n",
       "      <td>0.0</td>\n",
       "      <td>...</td>\n",
       "      <td>1</td>\n",
       "      <td>3</td>\n",
       "      <td>0.0</td>\n",
       "      <td>1</td>\n",
       "      <td>1</td>\n",
       "      <td>31.0</td>\n",
       "      <td>6</td>\n",
       "      <td>4</td>\n",
       "      <td>5</td>\n",
       "      <td>1</td>\n",
       "    </tr>\n",
       "    <tr>\n",
       "      <th>4</th>\n",
       "      <td>2.0</td>\n",
       "      <td>-1.0</td>\n",
       "      <td>1.0</td>\n",
       "      <td>3</td>\n",
       "      <td>0.0</td>\n",
       "      <td>0.0</td>\n",
       "      <td>2.0</td>\n",
       "      <td>5</td>\n",
       "      <td>6.0</td>\n",
       "      <td>1.0</td>\n",
       "      <td>...</td>\n",
       "      <td>1</td>\n",
       "      <td>5</td>\n",
       "      <td>0.0</td>\n",
       "      <td>0</td>\n",
       "      <td>0</td>\n",
       "      <td>2.0</td>\n",
       "      <td>8</td>\n",
       "      <td>0</td>\n",
       "      <td>1</td>\n",
       "      <td>1</td>\n",
       "    </tr>\n",
       "  </tbody>\n",
       "</table>\n",
       "<p>5 rows × 32 columns</p>\n",
       "</div>"
      ],
      "text/plain": [
       "     V1     V2     V3  V4      V5     V6    V7  V8     V9  V10  ...  V45  V47  \\\n",
       "0   0.0    1.0  243.0  29  4528.0  138.0   3.0  29  201.0  0.0  ...    2    3   \n",
       "1   0.0   20.0    8.0  14  4183.0  183.0   4.0  26  156.0  0.0  ...    5    7   \n",
       "2  14.0    2.0    2.0   9  1113.0   15.0  37.0  31   78.0  1.0  ...    7    5   \n",
       "3   0.0  175.0   17.0  16  4250.0   68.0   8.0  30  152.0  0.0  ...    1    3   \n",
       "4   2.0   -1.0    1.0   3     0.0    0.0   2.0   5    6.0  1.0  ...    1    5   \n",
       "\n",
       "    V50  V51  V52   V59  V63  V72  V75  class  \n",
       "0  71.0    0    0  46.0    1    2    0      1  \n",
       "1  20.0    0    2  13.0    9    6    0      1  \n",
       "2  11.0    0    0   7.0    9    2    1      0  \n",
       "3   0.0    1    1  31.0    6    4    5      1  \n",
       "4   0.0    0    0   2.0    8    0    1      1  \n",
       "\n",
       "[5 rows x 32 columns]"
      ]
     },
     "execution_count": 4,
     "metadata": {},
     "output_type": "execute_result"
    }
   ],
   "source": [
    "train_df.head()"
   ]
  },
  {
   "cell_type": "code",
   "execution_count": 5,
   "id": "6499119c",
   "metadata": {
    "execution": {
     "iopub.execute_input": "2024-06-16T07:45:23.914905Z",
     "iopub.status.busy": "2024-06-16T07:45:23.914208Z",
     "iopub.status.idle": "2024-06-16T07:45:23.920964Z",
     "shell.execute_reply": "2024-06-16T07:45:23.919947Z"
    },
    "papermill": {
     "duration": 0.015714,
     "end_time": "2024-06-16T07:45:23.923044",
     "exception": false,
     "start_time": "2024-06-16T07:45:23.907330",
     "status": "completed"
    },
    "tags": []
   },
   "outputs": [
    {
     "data": {
      "text/plain": [
       "Index(['V1', 'V2', 'V3', 'V4', 'V5', 'V6', 'V7', 'V8', 'V9', 'V10', 'V11',\n",
       "       'V13', 'V19', 'V22', 'V30', 'V33', 'V35', 'V36', 'V40', 'V41', 'V42',\n",
       "       'V43', 'V45', 'V47', 'V50', 'V51', 'V52', 'V59', 'V63', 'V72', 'V75',\n",
       "       'class'],\n",
       "      dtype='object')"
      ]
     },
     "execution_count": 5,
     "metadata": {},
     "output_type": "execute_result"
    }
   ],
   "source": [
    "train_df.columns"
   ]
  },
  {
   "cell_type": "code",
   "execution_count": 6,
   "id": "93df36b1",
   "metadata": {
    "execution": {
     "iopub.execute_input": "2024-06-16T07:45:23.936583Z",
     "iopub.status.busy": "2024-06-16T07:45:23.935822Z",
     "iopub.status.idle": "2024-06-16T07:45:23.945554Z",
     "shell.execute_reply": "2024-06-16T07:45:23.944624Z"
    },
    "papermill": {
     "duration": 0.019015,
     "end_time": "2024-06-16T07:45:23.947837",
     "exception": false,
     "start_time": "2024-06-16T07:45:23.928822",
     "status": "completed"
    },
    "tags": []
   },
   "outputs": [],
   "source": [
    "X = train_df.drop(['class'], axis=1)\n",
    "y = train_df['class']"
   ]
  },
  {
   "cell_type": "code",
   "execution_count": 7,
   "id": "75045e36",
   "metadata": {
    "execution": {
     "iopub.execute_input": "2024-06-16T07:45:23.961468Z",
     "iopub.status.busy": "2024-06-16T07:45:23.960731Z",
     "iopub.status.idle": "2024-06-16T07:45:23.987958Z",
     "shell.execute_reply": "2024-06-16T07:45:23.986764Z"
    },
    "papermill": {
     "duration": 0.03688,
     "end_time": "2024-06-16T07:45:23.990622",
     "exception": false,
     "start_time": "2024-06-16T07:45:23.953742",
     "status": "completed"
    },
    "tags": []
   },
   "outputs": [],
   "source": [
    "X_train, X_test, y_train, y_test = train_test_split(X, y, test_size = 0.2,random_state=42)\n",
    "\n",
    "\n"
   ]
  },
  {
   "cell_type": "code",
   "execution_count": 8,
   "id": "65aa64cc",
   "metadata": {
    "execution": {
     "iopub.execute_input": "2024-06-16T07:45:24.004874Z",
     "iopub.status.busy": "2024-06-16T07:45:24.004023Z",
     "iopub.status.idle": "2024-06-16T07:45:24.017440Z",
     "shell.execute_reply": "2024-06-16T07:45:24.016397Z"
    },
    "papermill": {
     "duration": 0.023262,
     "end_time": "2024-06-16T07:45:24.019893",
     "exception": false,
     "start_time": "2024-06-16T07:45:23.996631",
     "status": "completed"
    },
    "tags": []
   },
   "outputs": [
    {
     "name": "stdout",
     "output_type": "stream",
     "text": [
      "class\n",
      "1    16411\n",
      "0    16209\n",
      "Name: count, dtype: int64\n"
     ]
    }
   ],
   "source": [
    "print(y_train.value_counts())"
   ]
  },
  {
   "cell_type": "code",
   "execution_count": 9,
   "id": "755cbcc7",
   "metadata": {
    "execution": {
     "iopub.execute_input": "2024-06-16T07:45:24.033316Z",
     "iopub.status.busy": "2024-06-16T07:45:24.032911Z",
     "iopub.status.idle": "2024-06-16T07:45:24.101301Z",
     "shell.execute_reply": "2024-06-16T07:45:24.099964Z"
    },
    "papermill": {
     "duration": 0.078182,
     "end_time": "2024-06-16T07:45:24.104005",
     "exception": false,
     "start_time": "2024-06-16T07:45:24.025823",
     "status": "completed"
    },
    "tags": []
   },
   "outputs": [],
   "source": [
    "scaler = RobustScaler()\n",
    "X_train_scaled = scaler.fit_transform(X_train)\n",
    "X_test_scaled = scaler.transform(X_test)"
   ]
  },
  {
   "cell_type": "code",
   "execution_count": 10,
   "id": "a2791ffd",
   "metadata": {
    "execution": {
     "iopub.execute_input": "2024-06-16T07:45:24.117919Z",
     "iopub.status.busy": "2024-06-16T07:45:24.117541Z",
     "iopub.status.idle": "2024-06-16T07:45:24.986958Z",
     "shell.execute_reply": "2024-06-16T07:45:24.985936Z"
    },
    "papermill": {
     "duration": 0.878815,
     "end_time": "2024-06-16T07:45:24.989243",
     "exception": false,
     "start_time": "2024-06-16T07:45:24.110428",
     "status": "completed"
    },
    "tags": []
   },
   "outputs": [
    {
     "data": {
      "text/html": [
       "<style>#sk-container-id-1 {color: black;background-color: white;}#sk-container-id-1 pre{padding: 0;}#sk-container-id-1 div.sk-toggleable {background-color: white;}#sk-container-id-1 label.sk-toggleable__label {cursor: pointer;display: block;width: 100%;margin-bottom: 0;padding: 0.3em;box-sizing: border-box;text-align: center;}#sk-container-id-1 label.sk-toggleable__label-arrow:before {content: \"▸\";float: left;margin-right: 0.25em;color: #696969;}#sk-container-id-1 label.sk-toggleable__label-arrow:hover:before {color: black;}#sk-container-id-1 div.sk-estimator:hover label.sk-toggleable__label-arrow:before {color: black;}#sk-container-id-1 div.sk-toggleable__content {max-height: 0;max-width: 0;overflow: hidden;text-align: left;background-color: #f0f8ff;}#sk-container-id-1 div.sk-toggleable__content pre {margin: 0.2em;color: black;border-radius: 0.25em;background-color: #f0f8ff;}#sk-container-id-1 input.sk-toggleable__control:checked~div.sk-toggleable__content {max-height: 200px;max-width: 100%;overflow: auto;}#sk-container-id-1 input.sk-toggleable__control:checked~label.sk-toggleable__label-arrow:before {content: \"▾\";}#sk-container-id-1 div.sk-estimator input.sk-toggleable__control:checked~label.sk-toggleable__label {background-color: #d4ebff;}#sk-container-id-1 div.sk-label input.sk-toggleable__control:checked~label.sk-toggleable__label {background-color: #d4ebff;}#sk-container-id-1 input.sk-hidden--visually {border: 0;clip: rect(1px 1px 1px 1px);clip: rect(1px, 1px, 1px, 1px);height: 1px;margin: -1px;overflow: hidden;padding: 0;position: absolute;width: 1px;}#sk-container-id-1 div.sk-estimator {font-family: monospace;background-color: #f0f8ff;border: 1px dotted black;border-radius: 0.25em;box-sizing: border-box;margin-bottom: 0.5em;}#sk-container-id-1 div.sk-estimator:hover {background-color: #d4ebff;}#sk-container-id-1 div.sk-parallel-item::after {content: \"\";width: 100%;border-bottom: 1px solid gray;flex-grow: 1;}#sk-container-id-1 div.sk-label:hover label.sk-toggleable__label {background-color: #d4ebff;}#sk-container-id-1 div.sk-serial::before {content: \"\";position: absolute;border-left: 1px solid gray;box-sizing: border-box;top: 0;bottom: 0;left: 50%;z-index: 0;}#sk-container-id-1 div.sk-serial {display: flex;flex-direction: column;align-items: center;background-color: white;padding-right: 0.2em;padding-left: 0.2em;position: relative;}#sk-container-id-1 div.sk-item {position: relative;z-index: 1;}#sk-container-id-1 div.sk-parallel {display: flex;align-items: stretch;justify-content: center;background-color: white;position: relative;}#sk-container-id-1 div.sk-item::before, #sk-container-id-1 div.sk-parallel-item::before {content: \"\";position: absolute;border-left: 1px solid gray;box-sizing: border-box;top: 0;bottom: 0;left: 50%;z-index: -1;}#sk-container-id-1 div.sk-parallel-item {display: flex;flex-direction: column;z-index: 1;position: relative;background-color: white;}#sk-container-id-1 div.sk-parallel-item:first-child::after {align-self: flex-end;width: 50%;}#sk-container-id-1 div.sk-parallel-item:last-child::after {align-self: flex-start;width: 50%;}#sk-container-id-1 div.sk-parallel-item:only-child::after {width: 0;}#sk-container-id-1 div.sk-dashed-wrapped {border: 1px dashed gray;margin: 0 0.4em 0.5em 0.4em;box-sizing: border-box;padding-bottom: 0.4em;background-color: white;}#sk-container-id-1 div.sk-label label {font-family: monospace;font-weight: bold;display: inline-block;line-height: 1.2em;}#sk-container-id-1 div.sk-label-container {text-align: center;}#sk-container-id-1 div.sk-container {/* jupyter's `normalize.less` sets `[hidden] { display: none; }` but bootstrap.min.css set `[hidden] { display: none !important; }` so we also need the `!important` here to be able to override the default hidden behavior on the sphinx rendered scikit-learn.org. See: https://github.com/scikit-learn/scikit-learn/issues/21755 */display: inline-block !important;position: relative;}#sk-container-id-1 div.sk-text-repr-fallback {display: none;}</style><div id=\"sk-container-id-1\" class=\"sk-top-container\"><div class=\"sk-text-repr-fallback\"><pre>LogisticRegression(random_state=42, solver=&#x27;liblinear&#x27;)</pre><b>In a Jupyter environment, please rerun this cell to show the HTML representation or trust the notebook. <br />On GitHub, the HTML representation is unable to render, please try loading this page with nbviewer.org.</b></div><div class=\"sk-container\" hidden><div class=\"sk-item\"><div class=\"sk-estimator sk-toggleable\"><input class=\"sk-toggleable__control sk-hidden--visually\" id=\"sk-estimator-id-1\" type=\"checkbox\" checked><label for=\"sk-estimator-id-1\" class=\"sk-toggleable__label sk-toggleable__label-arrow\">LogisticRegression</label><div class=\"sk-toggleable__content\"><pre>LogisticRegression(random_state=42, solver=&#x27;liblinear&#x27;)</pre></div></div></div></div></div>"
      ],
      "text/plain": [
       "LogisticRegression(random_state=42, solver='liblinear')"
      ]
     },
     "execution_count": 10,
     "metadata": {},
     "output_type": "execute_result"
    }
   ],
   "source": [
    "\n",
    "model = LogisticRegression(penalty='l2',solver='liblinear',random_state=42)\n",
    "model.fit(X_train_scaled,y_train)"
   ]
  },
  {
   "cell_type": "code",
   "execution_count": 11,
   "id": "6b5b5347",
   "metadata": {
    "execution": {
     "iopub.execute_input": "2024-06-16T07:45:25.003676Z",
     "iopub.status.busy": "2024-06-16T07:45:25.003012Z",
     "iopub.status.idle": "2024-06-16T07:45:25.010635Z",
     "shell.execute_reply": "2024-06-16T07:45:25.009510Z"
    },
    "papermill": {
     "duration": 0.019223,
     "end_time": "2024-06-16T07:45:25.014588",
     "exception": false,
     "start_time": "2024-06-16T07:45:24.995365",
     "status": "completed"
    },
    "tags": []
   },
   "outputs": [],
   "source": [
    "y_pred = model.predict(X_test_scaled)"
   ]
  },
  {
   "cell_type": "code",
   "execution_count": 12,
   "id": "c754c403",
   "metadata": {
    "execution": {
     "iopub.execute_input": "2024-06-16T07:45:25.037678Z",
     "iopub.status.busy": "2024-06-16T07:45:25.036934Z",
     "iopub.status.idle": "2024-06-16T07:45:25.058088Z",
     "shell.execute_reply": "2024-06-16T07:45:25.056850Z"
    },
    "papermill": {
     "duration": 0.036312,
     "end_time": "2024-06-16T07:45:25.061397",
     "exception": false,
     "start_time": "2024-06-16T07:45:25.025085",
     "status": "completed"
    },
    "tags": []
   },
   "outputs": [
    {
     "name": "stdout",
     "output_type": "stream",
     "text": [
      "F1 score: 0.6442838247731327\n"
     ]
    }
   ],
   "source": [
    "f1 = f1_score(y_test, y_pred,average='weighted')\n",
    "print(f\"F1 score: {f1}\")"
   ]
  },
  {
   "cell_type": "code",
   "execution_count": 13,
   "id": "ed14ec67",
   "metadata": {
    "execution": {
     "iopub.execute_input": "2024-06-16T07:45:25.085031Z",
     "iopub.status.busy": "2024-06-16T07:45:25.084490Z",
     "iopub.status.idle": "2024-06-16T07:45:25.178206Z",
     "shell.execute_reply": "2024-06-16T07:45:25.177052Z"
    },
    "papermill": {
     "duration": 0.108487,
     "end_time": "2024-06-16T07:45:25.180773",
     "exception": false,
     "start_time": "2024-06-16T07:45:25.072286",
     "status": "completed"
    },
    "tags": []
   },
   "outputs": [],
   "source": [
    "test_data = pd.read_csv(\"/kaggle/input/week4-practice-hackathon-2024/Test.csv\")"
   ]
  },
  {
   "cell_type": "code",
   "execution_count": 14,
   "id": "36c5f3f1",
   "metadata": {
    "execution": {
     "iopub.execute_input": "2024-06-16T07:45:25.195608Z",
     "iopub.status.busy": "2024-06-16T07:45:25.195235Z",
     "iopub.status.idle": "2024-06-16T07:45:25.201735Z",
     "shell.execute_reply": "2024-06-16T07:45:25.200704Z"
    },
    "papermill": {
     "duration": 0.016062,
     "end_time": "2024-06-16T07:45:25.203923",
     "exception": false,
     "start_time": "2024-06-16T07:45:25.187861",
     "status": "completed"
    },
    "tags": []
   },
   "outputs": [
    {
     "data": {
      "text/plain": [
       "(17476, 32)"
      ]
     },
     "execution_count": 14,
     "metadata": {},
     "output_type": "execute_result"
    }
   ],
   "source": [
    "test_data.shape"
   ]
  },
  {
   "cell_type": "code",
   "execution_count": 15,
   "id": "1795ee3c",
   "metadata": {
    "execution": {
     "iopub.execute_input": "2024-06-16T07:45:25.217875Z",
     "iopub.status.busy": "2024-06-16T07:45:25.217517Z",
     "iopub.status.idle": "2024-06-16T07:45:25.224177Z",
     "shell.execute_reply": "2024-06-16T07:45:25.223130Z"
    },
    "papermill": {
     "duration": 0.016277,
     "end_time": "2024-06-16T07:45:25.226402",
     "exception": false,
     "start_time": "2024-06-16T07:45:25.210125",
     "status": "completed"
    },
    "tags": []
   },
   "outputs": [],
   "source": [
    "Index=test_data['Index']\n",
    "test_data.drop(['Index'],axis=1,inplace=True)"
   ]
  },
  {
   "cell_type": "code",
   "execution_count": 16,
   "id": "22f5c5c0",
   "metadata": {
    "execution": {
     "iopub.execute_input": "2024-06-16T07:45:25.241245Z",
     "iopub.status.busy": "2024-06-16T07:45:25.240247Z",
     "iopub.status.idle": "2024-06-16T07:45:25.252444Z",
     "shell.execute_reply": "2024-06-16T07:45:25.251056Z"
    },
    "papermill": {
     "duration": 0.026216,
     "end_time": "2024-06-16T07:45:25.258830",
     "exception": false,
     "start_time": "2024-06-16T07:45:25.232614",
     "status": "completed"
    },
    "tags": []
   },
   "outputs": [
    {
     "name": "stderr",
     "output_type": "stream",
     "text": [
      "/opt/conda/lib/python3.10/site-packages/sklearn/base.py:432: UserWarning: X has feature names, but LogisticRegression was fitted without feature names\n",
      "  warnings.warn(\n"
     ]
    }
   ],
   "source": [
    "y_test = model.predict(test_data)"
   ]
  },
  {
   "cell_type": "code",
   "execution_count": 17,
   "id": "9c4ce0a8",
   "metadata": {
    "execution": {
     "iopub.execute_input": "2024-06-16T07:45:25.283336Z",
     "iopub.status.busy": "2024-06-16T07:45:25.281876Z",
     "iopub.status.idle": "2024-06-16T07:45:25.290365Z",
     "shell.execute_reply": "2024-06-16T07:45:25.289248Z"
    },
    "papermill": {
     "duration": 0.028527,
     "end_time": "2024-06-16T07:45:25.297838",
     "exception": false,
     "start_time": "2024-06-16T07:45:25.269311",
     "status": "completed"
    },
    "tags": []
   },
   "outputs": [
    {
     "data": {
      "text/plain": [
       "array([1, 1, 1, ..., 1, 1, 0])"
      ]
     },
     "execution_count": 17,
     "metadata": {},
     "output_type": "execute_result"
    }
   ],
   "source": [
    "y_test"
   ]
  },
  {
   "cell_type": "code",
   "execution_count": 18,
   "id": "895adc13",
   "metadata": {
    "execution": {
     "iopub.execute_input": "2024-06-16T07:45:25.321362Z",
     "iopub.status.busy": "2024-06-16T07:45:25.320840Z",
     "iopub.status.idle": "2024-06-16T07:45:25.327423Z",
     "shell.execute_reply": "2024-06-16T07:45:25.326236Z"
    },
    "papermill": {
     "duration": 0.024501,
     "end_time": "2024-06-16T07:45:25.333017",
     "exception": false,
     "start_time": "2024-06-16T07:45:25.308516",
     "status": "completed"
    },
    "tags": []
   },
   "outputs": [],
   "source": [
    "result = pd.DataFrame({\n",
    "    'Index': Index,\n",
    "    'class': y_test\n",
    "})"
   ]
  },
  {
   "cell_type": "code",
   "execution_count": 19,
   "id": "7de11ff0",
   "metadata": {
    "execution": {
     "iopub.execute_input": "2024-06-16T07:45:25.356608Z",
     "iopub.status.busy": "2024-06-16T07:45:25.356077Z",
     "iopub.status.idle": "2024-06-16T07:45:25.369621Z",
     "shell.execute_reply": "2024-06-16T07:45:25.368663Z"
    },
    "papermill": {
     "duration": 0.030285,
     "end_time": "2024-06-16T07:45:25.374237",
     "exception": false,
     "start_time": "2024-06-16T07:45:25.343952",
     "status": "completed"
    },
    "tags": []
   },
   "outputs": [
    {
     "data": {
      "text/html": [
       "<div>\n",
       "<style scoped>\n",
       "    .dataframe tbody tr th:only-of-type {\n",
       "        vertical-align: middle;\n",
       "    }\n",
       "\n",
       "    .dataframe tbody tr th {\n",
       "        vertical-align: top;\n",
       "    }\n",
       "\n",
       "    .dataframe thead th {\n",
       "        text-align: right;\n",
       "    }\n",
       "</style>\n",
       "<table border=\"1\" class=\"dataframe\">\n",
       "  <thead>\n",
       "    <tr style=\"text-align: right;\">\n",
       "      <th></th>\n",
       "      <th>Index</th>\n",
       "      <th>class</th>\n",
       "    </tr>\n",
       "  </thead>\n",
       "  <tbody>\n",
       "    <tr>\n",
       "      <th>0</th>\n",
       "      <td>40977</td>\n",
       "      <td>1</td>\n",
       "    </tr>\n",
       "    <tr>\n",
       "      <th>1</th>\n",
       "      <td>24157</td>\n",
       "      <td>1</td>\n",
       "    </tr>\n",
       "    <tr>\n",
       "      <th>2</th>\n",
       "      <td>56238</td>\n",
       "      <td>1</td>\n",
       "    </tr>\n",
       "    <tr>\n",
       "      <th>3</th>\n",
       "      <td>55411</td>\n",
       "      <td>1</td>\n",
       "    </tr>\n",
       "    <tr>\n",
       "      <th>4</th>\n",
       "      <td>53175</td>\n",
       "      <td>1</td>\n",
       "    </tr>\n",
       "    <tr>\n",
       "      <th>...</th>\n",
       "      <td>...</td>\n",
       "      <td>...</td>\n",
       "    </tr>\n",
       "    <tr>\n",
       "      <th>17471</th>\n",
       "      <td>17197</td>\n",
       "      <td>1</td>\n",
       "    </tr>\n",
       "    <tr>\n",
       "      <th>17472</th>\n",
       "      <td>14094</td>\n",
       "      <td>1</td>\n",
       "    </tr>\n",
       "    <tr>\n",
       "      <th>17473</th>\n",
       "      <td>34598</td>\n",
       "      <td>1</td>\n",
       "    </tr>\n",
       "    <tr>\n",
       "      <th>17474</th>\n",
       "      <td>17845</td>\n",
       "      <td>1</td>\n",
       "    </tr>\n",
       "    <tr>\n",
       "      <th>17475</th>\n",
       "      <td>11574</td>\n",
       "      <td>0</td>\n",
       "    </tr>\n",
       "  </tbody>\n",
       "</table>\n",
       "<p>17476 rows × 2 columns</p>\n",
       "</div>"
      ],
      "text/plain": [
       "       Index  class\n",
       "0      40977      1\n",
       "1      24157      1\n",
       "2      56238      1\n",
       "3      55411      1\n",
       "4      53175      1\n",
       "...      ...    ...\n",
       "17471  17197      1\n",
       "17472  14094      1\n",
       "17473  34598      1\n",
       "17474  17845      1\n",
       "17475  11574      0\n",
       "\n",
       "[17476 rows x 2 columns]"
      ]
     },
     "execution_count": 19,
     "metadata": {},
     "output_type": "execute_result"
    }
   ],
   "source": [
    "result"
   ]
  },
  {
   "cell_type": "code",
   "execution_count": 20,
   "id": "337d633c",
   "metadata": {
    "execution": {
     "iopub.execute_input": "2024-06-16T07:45:25.389247Z",
     "iopub.status.busy": "2024-06-16T07:45:25.388863Z",
     "iopub.status.idle": "2024-06-16T07:45:25.409638Z",
     "shell.execute_reply": "2024-06-16T07:45:25.408417Z"
    },
    "papermill": {
     "duration": 0.031631,
     "end_time": "2024-06-16T07:45:25.412434",
     "exception": false,
     "start_time": "2024-06-16T07:45:25.380803",
     "status": "completed"
    },
    "tags": []
   },
   "outputs": [],
   "source": [
    "result.to_csv(\"submission.csv\", index=False) #(for making submission file)"
   ]
  },
  {
   "cell_type": "code",
   "execution_count": null,
   "id": "6e21bab3",
   "metadata": {
    "papermill": {
     "duration": 0.006473,
     "end_time": "2024-06-16T07:45:25.425692",
     "exception": false,
     "start_time": "2024-06-16T07:45:25.419219",
     "status": "completed"
    },
    "tags": []
   },
   "outputs": [],
   "source": [
    "\n"
   ]
  }
 ],
 "metadata": {
  "kaggle": {
   "accelerator": "none",
   "dataSources": [
    {
     "databundleVersionId": 8809707,
     "sourceId": 81427,
     "sourceType": "competition"
    }
   ],
   "dockerImageVersionId": 30732,
   "isGpuEnabled": false,
   "isInternetEnabled": false,
   "language": "python",
   "sourceType": "notebook"
  },
  "kernelspec": {
   "display_name": "Python 3",
   "language": "python",
   "name": "python3"
  },
  "language_info": {
   "codemirror_mode": {
    "name": "ipython",
    "version": 3
   },
   "file_extension": ".py",
   "mimetype": "text/x-python",
   "name": "python",
   "nbconvert_exporter": "python",
   "pygments_lexer": "ipython3",
   "version": "3.10.13"
  },
  "papermill": {
   "default_parameters": {},
   "duration": 7.664366,
   "end_time": "2024-06-16T07:45:26.053946",
   "environment_variables": {},
   "exception": null,
   "input_path": "__notebook__.ipynb",
   "output_path": "__notebook__.ipynb",
   "parameters": {},
   "start_time": "2024-06-16T07:45:18.389580",
   "version": "2.5.0"
  }
 },
 "nbformat": 4,
 "nbformat_minor": 5
}
